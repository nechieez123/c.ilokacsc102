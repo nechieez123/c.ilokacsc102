{
 "cells": [
  {
   "cell_type": "code",
   "execution_count": 30,
   "id": "fd5633ae",
   "metadata": {},
   "outputs": [
    {
     "name": "stdout",
     "output_type": "stream",
     "text": [
      "if location is Ibeju-Lekki type 1, if Epe type 2: 2\n",
      "Is the weight above 10, if either indicate the weight: 66\n",
      "Your Price based on your weight is 5000 \n"
     ]
    }
   ],
   "source": [
    "location = float(input(\"if location is Ibeju-Lekki type 1, if Epe type 2: \"))\n",
    "if location == 1:\n",
    "    weight = float(input(\"Is the weight above 10, if either indicate the weight: \"))\n",
    "    if weight >= 10:\n",
    "        print(\"Your Price based on your weight is 2000 \")\n",
    "    else:\n",
    "        print(\"Your Price based on your weight is 1500\")    \n",
    "\n",
    "\n",
    "elif location == 2:\n",
    "    weigoht = float(input(\"Is the weight above 10, if either indicate the weight: \"))\n",
    "    if weigoht >= 10:\n",
    "        print(\"Your Price based on your weight is 5000 \")\n",
    "    else:\n",
    "        print(\"Your Price based on your weight is 4000\")\n",
    "\n",
    "else:\n",
    "    print(\"NOT A VALID INPUT\")\n",
    "\n",
    "    \n",
    "    \n",
    "\n",
    "    \n",
    "    \n",
    "\n"
   ]
  },
  {
   "cell_type": "code",
   "execution_count": 29,
   "id": "18872fd3",
   "metadata": {},
   "outputs": [],
   "source": [
    "def weight(float):\n",
    "    #This gets the weight in ibeju-lekki\n",
    "    weight = float(input(\"Is the weight above 10: \"))\n",
    "    if weight >= 10:\n",
    "        print(\"Your Price based on your weight is 2000 \")\n",
    "    else:\n",
    "        print(\"Your Price based on your weight is 1500\")\n",
    "    return\n",
    "\n",
    "\n",
    "def weighot():\n",
    "    #This gets the weight in epe\n",
    "    weigoht = float(input(\"Is the weight above 10: \"))\n",
    "    if weigoht >= 10:\n",
    "        print(\"Your Price based on your weight is 5000 \")\n",
    "    else:\n",
    "        print(\"Your Price based on your weight is 4000\")\n",
    "    return\n",
    "    \n",
    "    \n",
    "    \n",
    "\n",
    "        "
   ]
  },
  {
   "cell_type": "markdown",
   "id": "57119ab1",
   "metadata": {},
   "source": [
    "## "
   ]
  },
  {
   "cell_type": "code",
   "execution_count": null,
   "id": "170a8a1e",
   "metadata": {},
   "outputs": [],
   "source": []
  }
 ],
 "metadata": {
  "kernelspec": {
   "display_name": "Python 3 (ipykernel)",
   "language": "python",
   "name": "python3"
  },
  "language_info": {
   "codemirror_mode": {
    "name": "ipython",
    "version": 3
   },
   "file_extension": ".py",
   "mimetype": "text/x-python",
   "name": "python",
   "nbconvert_exporter": "python",
   "pygments_lexer": "ipython3",
   "version": "3.10.9"
  }
 },
 "nbformat": 4,
 "nbformat_minor": 5
}
