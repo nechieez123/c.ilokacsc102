{
 "cells": [
  {
   "cell_type": "code",
   "execution_count": 11,
   "id": "33b4c469",
   "metadata": {},
   "outputs": [
    {
     "ename": "TypeError",
     "evalue": "verify_employee() missing 2 required positional arguments: 'surname' and 'department'",
     "output_type": "error",
     "traceback": [
      "\u001b[1;31m---------------------------------------------------------------------------\u001b[0m",
      "\u001b[1;31mTypeError\u001b[0m                                 Traceback (most recent call last)",
      "Cell \u001b[1;32mIn[11], line 15\u001b[0m\n\u001b[0;32m     13\u001b[0m                 \u001b[38;5;28;01mreturn\u001b[39;00m\n\u001b[0;32m     14\u001b[0m         \u001b[38;5;28mprint\u001b[39m(\u001b[38;5;124m\"\u001b[39m\u001b[38;5;124mEmployee does not exist.\u001b[39m\u001b[38;5;124m\"\u001b[39m)\n\u001b[1;32m---> 15\u001b[0m \u001b[43mverify_employee\u001b[49m\u001b[43m(\u001b[49m\u001b[43m)\u001b[49m\n",
      "\u001b[1;31mTypeError\u001b[0m: verify_employee() missing 2 required positional arguments: 'surname' and 'department'"
     ]
    }
   ],
   "source": [
    "import csv\n",
    "\n",
    "def verify_employee(surname, department):\n",
    "    with open('jt-ventures.csv', mode='r') as file:\n",
    "        reader = csv.DictReader(file)\n",
    "        for row in reader:\n",
    "            if row['SURNAME'] == surname and row['DEPARTMENT'] == department:\n",
    "                print(f\"Welcome, {row['FIRSTNAME']} {surname}!\")\n",
    "                print(\"Company Profile:\")\n",
    "                print(f\"Name: {row['Company Name']}\")\n",
    "                print(f\"Address: {row['Address']}\")\n",
    "                print(f\"Phone: {row['Phone']}\")\n",
    "                return\n",
    "        print(\"Employee does not exist.\")\n",
    "verify_employee()      \n",
    "\n",
    "  \n"
   ]
  },
  {
   "cell_type": "code",
   "execution_count": 10,
   "id": "711a9957",
   "metadata": {},
   "outputs": [
    {
     "ename": "NameError",
     "evalue": "name 'ADENIRAN' is not defined",
     "output_type": "error",
     "traceback": [
      "\u001b[1;31m---------------------------------------------------------------------------\u001b[0m",
      "\u001b[1;31mNameError\u001b[0m                                 Traceback (most recent call last)",
      "Cell \u001b[1;32mIn[10], line 15\u001b[0m\n\u001b[0;32m     13\u001b[0m                 \u001b[38;5;28;01mreturn\u001b[39;00m\n\u001b[0;32m     14\u001b[0m         \u001b[38;5;28mprint\u001b[39m(\u001b[38;5;124m\"\u001b[39m\u001b[38;5;124mEmployee does not exist.\u001b[39m\u001b[38;5;124m\"\u001b[39m)\n\u001b[1;32m---> 15\u001b[0m verify_employee(\u001b[43mADENIRAN\u001b[49m, Logistics)\n",
      "\u001b[1;31mNameError\u001b[0m: name 'ADENIRAN' is not defined"
     ]
    }
   ],
   "source": []
  },
  {
   "cell_type": "code",
   "execution_count": null,
   "id": "24873e86",
   "metadata": {},
   "outputs": [],
   "source": []
  }
 ],
 "metadata": {
  "kernelspec": {
   "display_name": "Python 3 (ipykernel)",
   "language": "python",
   "name": "python3"
  },
  "language_info": {
   "codemirror_mode": {
    "name": "ipython",
    "version": 3
   },
   "file_extension": ".py",
   "mimetype": "text/x-python",
   "name": "python",
   "nbconvert_exporter": "python",
   "pygments_lexer": "ipython3",
   "version": "3.10.9"
  }
 },
 "nbformat": 4,
 "nbformat_minor": 5
}
