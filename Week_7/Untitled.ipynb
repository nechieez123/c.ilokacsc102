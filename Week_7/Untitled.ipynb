{
 "cells": [
  {
   "cell_type": "code",
   "execution_count": 10,
   "id": "7435cbc1",
   "metadata": {},
   "outputs": [],
   "source": [
    "def printme(str):\n",
    "    #This prints a passed a string function\n",
    "    print (str);\n",
    "    return"
   ]
  },
  {
   "cell_type": "code",
   "execution_count": 11,
   "id": "93629ef5",
   "metadata": {},
   "outputs": [
    {
     "name": "stdout",
     "output_type": "stream",
     "text": [
      "I'm first call to user defined function!\n",
      "Again second call to user defined fuction\n"
     ]
    }
   ],
   "source": [
    "def printme(str):\n",
    "    #This is a print function\n",
    "    print (str);\n",
    "    return\n",
    "\n",
    "printme(\"I'm first call to user defined function!\");\n",
    "printme(\"Again second call to user defined fuction\");\n"
   ]
  },
  {
   "cell_type": "code",
   "execution_count": 12,
   "id": "b03230a5",
   "metadata": {},
   "outputs": [
    {
     "name": "stdout",
     "output_type": "stream",
     "text": [
      "Values inside the function:  [10, 20, 30, [1, 2, 3, 4]]\n",
      "Values outside the function:  [10, 20, 30, [1, 2, 3, 4]]\n"
     ]
    }
   ],
   "source": [
    "def changeme( mylist ):\n",
    "    #This changes a passed list\n",
    "    mylist. append([1,2,3,4])\n",
    "    print  (\"Values inside the function: \", mylist)\n",
    "    return\n",
    "mylist= [10,20,30]\n",
    "changeme( mylist )\n",
    "print (\"Values outside the function: \",mylist)"
   ]
  },
  {
   "cell_type": "code",
   "execution_count": 14,
   "id": "f4818d1c",
   "metadata": {},
   "outputs": [
    {
     "name": "stdout",
     "output_type": "stream",
     "text": [
      "Values inside the function:  [1, 2, 3, 4]\n",
      "Values outside the function:  [10, 20, 30]\n"
     ]
    }
   ],
   "source": [
    "def changeme( mylist ):\n",
    "    #This changes a passed list\n",
    "    mylist= [1,2,3,4];\n",
    "    print  (\"Values inside the function: \", mylist)\n",
    "    return\n",
    "mylist= [10,20,30];\n",
    "changeme( mylist );\n",
    "print (\"Values outside the function: \",mylist)"
   ]
  },
  {
   "cell_type": "code",
   "execution_count": 16,
   "id": "30804856",
   "metadata": {},
   "outputs": [
    {
     "name": "stdout",
     "output_type": "stream",
     "text": [
      "<class 'str'>\n"
     ]
    }
   ],
   "source": [
    "def printme( str ):\n",
    "    #This prints a passed string\n",
    "    print (str);\n",
    "    return;\n",
    "printme(str);"
   ]
  },
  {
   "cell_type": "code",
   "execution_count": 18,
   "id": "c215edc4",
   "metadata": {},
   "outputs": [
    {
     "name": "stdout",
     "output_type": "stream",
     "text": [
      "Superstar dey for you\n"
     ]
    }
   ],
   "source": [
    "def printme( str ):\n",
    "    #This prints a passed string\n",
    "    print (str);\n",
    "    return;\n",
    "printme(str= \"Superstar dey for you\");"
   ]
  },
  {
   "cell_type": "code",
   "execution_count": 21,
   "id": "a98d1066",
   "metadata": {},
   "outputs": [
    {
     "name": "stdout",
     "output_type": "stream",
     "text": [
      "Name: miki\n",
      "Age: 50\n"
     ]
    }
   ],
   "source": [
    "def printinfo( name,age ):\n",
    "   #Test function\n",
    "    print (\"Name:\", name);\n",
    "    print (\"Age:\", age);\n",
    "    return;\n",
    "printinfo( age=50, name=\"miki\" );"
   ]
  },
  {
   "cell_type": "code",
   "execution_count": 24,
   "id": "6846b658",
   "metadata": {},
   "outputs": [
    {
     "name": "stdout",
     "output_type": "stream",
     "text": [
      "Name: miki\n",
      "Age: 50\n",
      "Name: miki\n",
      "Age: 35\n"
     ]
    }
   ],
   "source": [
    "def printinfo( name,age=35 ):\n",
    "   #Test function\n",
    "    print (\"Name:\", name);\n",
    "    print (\"Age:\", age);\n",
    "    return;\n",
    "printinfo( age=50, name=\"miki\" );\n",
    "printinfo( name=\"miki\" );"
   ]
  },
  {
   "cell_type": "code",
   "execution_count": 34,
   "id": "4a563a0d",
   "metadata": {},
   "outputs": [
    {
     "name": "stdout",
     "output_type": "stream",
     "text": [
      "Output is: \n",
      "10\n",
      "Output is: \n",
      "70\n",
      "60\n"
     ]
    }
   ],
   "source": [
    "def printinfo(arg1, *vartuple):\n",
    "    #This is test\n",
    "    print (\"Output is: \")\n",
    "    print (arg1)\n",
    "    for var in vartuple:\n",
    "        print(var)\n",
    "        return;\n",
    "printinfo(10);\n",
    "printinfo( 70,60,50,40 );\n",
    "    "
   ]
  },
  {
   "cell_type": "code",
   "execution_count": 27,
   "id": "1a348dc5",
   "metadata": {},
   "outputs": [
    {
     "name": "stdout",
     "output_type": "stream",
     "text": [
      "Inside the function local total :  30\n",
      "Outside the function global total :  50\n"
     ]
    }
   ],
   "source": [
    "total =50; #This is a global variable.\n",
    "def sum(arg1, arg2):\n",
    "    # Add both the parameters\n",
    "    total = arg1 + arg2;\n",
    "    print (\"Inside the function local total : \", total)\n",
    "    return total;\n",
    "#Now  you can call a sum function\n",
    "sum(10,20);\n",
    "print (\"Outside the function global total : \", total)"
   ]
  },
  {
   "cell_type": "code",
   "execution_count": 32,
   "id": "d3996293",
   "metadata": {},
   "outputs": [
    {
     "name": "stdout",
     "output_type": "stream",
     "text": [
      "Lawal Edward Tolu Tina\n",
      "Mary\n"
     ]
    }
   ],
   "source": [
    "def swap(x, y ):\n",
    "    global a\n",
    "    a = \"Lawal\"\n",
    "    x,y = y,x\n",
    "    b = \"Chris\"\n",
    "    b = \"Edward\"\n",
    "    c = \"Lola\"\n",
    "    print(a,b,x,y)\n",
    "    a = \"Mary\"\n",
    "swap(\"Tina\", \"Tolu\")\n",
    "print (a)"
   ]
  },
  {
   "cell_type": "code",
   "execution_count": 36,
   "id": "2b15dc1d",
   "metadata": {},
   "outputs": [
    {
     "ename": "SyntaxError",
     "evalue": "invalid syntax (1920266009.py, line 3)",
     "output_type": "error",
     "traceback": [
      "\u001b[1;36m  Cell \u001b[1;32mIn[36], line 3\u001b[1;36m\u001b[0m\n\u001b[1;33m    def welcome_employee('Neche', 'Sales'):\u001b[0m\n\u001b[1;37m                         ^\u001b[0m\n\u001b[1;31mSyntaxError\u001b[0m\u001b[1;31m:\u001b[0m invalid syntax\n"
     ]
    }
   ],
   "source": [
    "import pandas as pd\n",
    "\n",
    "def welcome_employee(name, department):\n",
    "    df = pd.read_csv('jt.ventures.csv')\n",
    "    employees = df[(df['Name'] == name) & (df['Department'] == department)]\n",
    "    \n",
    "    if len(employees) > 0:\n",
    "        employee = employees.iloc[0]\n",
    "        print(f\"Welcome {employee['Name']} from {employee['Department']} department! Here is the company profile:\\n{employee['Company Profile']}\")\n",
    "    else:\n",
    "        print(f\"Sorry, we couldn't find an employee with name {name} in the {department} department.\")\n"
   ]
  },
  {
   "cell_type": "code",
   "execution_count": 37,
   "id": "142a80c8",
   "metadata": {},
   "outputs": [],
   "source": [
    "def calculate_delivery_cost(location, weight):\n",
    "    if location == 'Ibeju-Lekki':\n",
    "        if weight >= 10:\n",
    "            cost = 2000\n",
    "        else:\n",
    "            cost = 1500\n",
    "    elif location == 'Epe':\n",
    "        if weight >= 10:\n",
    "            cost = 5000\n",
    "        else:\n",
    "            cost = 4000\n",
    "    else:\n",
    "        cost = None\n",
    "        print('Invalid location. Please enter either \"Ibeju-Lekki\" or \"Epe\".')\n",
    "\n",
    "    if cost is not None:\n",
    "        print(f'The delivery cost for a package weighing {weight}kg to {location} is {cost} naira.')\n"
   ]
  },
  {
   "cell_type": "code",
   "execution_count": null,
   "id": "af59adfe",
   "metadata": {},
   "outputs": [],
   "source": []
  }
 ],
 "metadata": {
  "kernelspec": {
   "display_name": "Python 3 (ipykernel)",
   "language": "python",
   "name": "python3"
  },
  "language_info": {
   "codemirror_mode": {
    "name": "ipython",
    "version": 3
   },
   "file_extension": ".py",
   "mimetype": "text/x-python",
   "name": "python",
   "nbconvert_exporter": "python",
   "pygments_lexer": "ipython3",
   "version": "3.10.9"
  }
 },
 "nbformat": 4,
 "nbformat_minor": 5
}
