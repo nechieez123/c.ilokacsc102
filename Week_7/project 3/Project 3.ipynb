{
 "cells": [
  {
   "cell_type": "code",
   "execution_count": 4,
   "id": "9523ad4f",
   "metadata": {},
   "outputs": [
    {
     "name": "stdout",
     "output_type": "stream",
     "text": [
      "Enter name of student: josh\n"
     ]
    },
    {
     "data": {
      "text/html": [
       "<div>\n",
       "<style scoped>\n",
       "    .dataframe tbody tr th:only-of-type {\n",
       "        vertical-align: middle;\n",
       "    }\n",
       "\n",
       "    .dataframe tbody tr th {\n",
       "        vertical-align: top;\n",
       "    }\n",
       "\n",
       "    .dataframe thead th {\n",
       "        text-align: right;\n",
       "    }\n",
       "</style>\n",
       "<table border=\"1\" class=\"dataframe\">\n",
       "  <thead>\n",
       "    <tr style=\"text-align: right;\">\n",
       "      <th></th>\n",
       "      <th>0</th>\n",
       "    </tr>\n",
       "  </thead>\n",
       "  <tbody>\n",
       "    <tr>\n",
       "      <th>0</th>\n",
       "      <td>josh</td>\n",
       "    </tr>\n",
       "  </tbody>\n",
       "</table>\n",
       "</div>"
      ],
      "text/plain": [
       "      0\n",
       "0  josh"
      ]
     },
     "execution_count": 4,
     "metadata": {},
     "output_type": "execute_result"
    }
   ],
   "source": [
    "import pandas as pd\n",
    "#code for taking user input as list in pandas\n",
    "student = []\n",
    "\n",
    "for i in range(1):\n",
    "    jamb = input('Enter name of student: ')\n",
    "    student.append(jamb)\n",
    "df = pd.DataFrame(student)\n",
    "\n",
    "df\n",
    "#df.to_csv('NAME') to save as .csv file"
   ]
  },
  {
   "cell_type": "code",
   "execution_count": 22,
   "id": "27aed627",
   "metadata": {},
   "outputs": [
    {
     "name": "stdout",
     "output_type": "stream",
     "text": [
      "if you are applying for compuetr science, type 1 if you are applyning for mass communication type 2: 3\n",
      "INVALID INPUT\n"
     ]
    }
   ],
   "source": [
    "import pandas as pd\n",
    "\n",
    "course = float(input(\"if you are applying for computer science, type 1 if you are applyning for mass communication type 2: \"))\n",
    "if course == 1:\n",
    "    jambscore = float(input(\"What is your jamb score: \"))\n",
    "    credits = float(input(\"How many key subject credits do you have: \"))\n",
    "    if jambscore >= 230 and credits >= 5:\n",
    "                student = []\n",
    "                for i in range(1):\n",
    "                    jamb = input(\"Enter name of student: \")\n",
    "                    student.append(jamb)\n",
    "                            \n",
    "                    df = pd.DataFrame(student)     \n",
    "                       \n",
    "                    df.to_csv('admitted-to-comp-sci.csv')\n",
    "                    \n",
    "    else:\n",
    "        student = []\n",
    "        for i in range(1):\n",
    "            jamb = input(\"Enter name of student: \")\n",
    "            student.append(jamb)\n",
    "                            \n",
    "            df = pd.DataFrame(student)     \n",
    "                       \n",
    "            df.to_csv('not-admitted-to-comp-sci.csv') \n",
    "elif course == 2:\n",
    "    jambscore = float(input(\"What is your jamb score: \"))\n",
    "    credits = float(input(\"How many key subject credits do you have: \"))\n",
    "    if jambscore >= 220 and credits >= 5:\n",
    "                student = []\n",
    "                for i in range(1):\n",
    "                    jamb = input(\"Enter name of student: \")\n",
    "                    student.append(jamb)\n",
    "                            \n",
    "                    df = pd.DataFrame(student)     \n",
    "                       \n",
    "                    df.to_csv('admitted-to-mass-comm.csv')\n",
    "                    \n",
    "    else:\n",
    "        student = []\n",
    "        for i in range(1):\n",
    "            jamb = input(\"Enter name of student: \")\n",
    "            student.append(jamb)\n",
    "                            \n",
    "            df = pd.DataFrame(student)     \n",
    "                       \n",
    "            df.to_csv('not-admitted-to-mass-comm.csv')     \n",
    "else:\n",
    "    print(\"INVALID INPUT\")\n",
    "            \n",
    "        \n",
    "          \n",
    "            \n",
    "                            \n",
    "                        \n",
    "          \n",
    "\n",
    "\n",
    "          \n",
    "          \n",
    "          \n",
    "          \n"
   ]
  },
  {
   "cell_type": "code",
   "execution_count": null,
   "id": "bc16c75f",
   "metadata": {},
   "outputs": [],
   "source": []
  }
 ],
 "metadata": {
  "kernelspec": {
   "display_name": "Python 3 (ipykernel)",
   "language": "python",
   "name": "python3"
  },
  "language_info": {
   "codemirror_mode": {
    "name": "ipython",
    "version": 3
   },
   "file_extension": ".py",
   "mimetype": "text/x-python",
   "name": "python",
   "nbconvert_exporter": "python",
   "pygments_lexer": "ipython3",
   "version": "3.10.9"
  }
 },
 "nbformat": 4,
 "nbformat_minor": 5
}
