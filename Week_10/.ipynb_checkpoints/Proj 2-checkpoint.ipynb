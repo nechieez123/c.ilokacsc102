{
 "cells": [
  {
   "cell_type": "code",
   "execution_count": null,
   "id": "2a9d1f4d",
   "metadata": {},
   "outputs": [
    {
     "name": "stdout",
     "output_type": "stream",
     "text": [
      "Select an equation to calculate:\n",
      "1. Area of Trapezium\n",
      "2. Area of Rhombus\n",
      "3. Area of Parallelogram\n",
      "4. Surface Area of Cube\n",
      "5. Volume of Cylinder\n",
      "Enter your choice (1-5): 3\n",
      "Enter the length of the base: 2\n"
     ]
    }
   ],
   "source": [
    "\n",
    "class ShapeCalculator:\n",
    "    def calculate_trapezium_area(self):\n",
    "        height = float(input(\"Enter the height of the trapezium: \"))\n",
    "        base1 = float(input(\"Enter the length of base 1: \"))\n",
    "        base2 = float(input(\"Enter the length of base 2: \"))\n",
    "        area = (height / 2) * (base1 + base2)\n",
    "        print(\"The area of the trapezium is:\", area)\n",
    "\n",
    "    def calculate_rhombus_area(self):\n",
    "        diagonal1 = float(input(\"Enter the length of diagonal 1: \"))\n",
    "        diagonal2 = float(input(\"Enter the length of diagonal 2: \"))\n",
    "        area = 0.5 * diagonal1 * diagonal2\n",
    "        print(\"The area of the rhombus is:\", area)\n",
    "\n",
    "    def calculate_parallelogram_area(self):\n",
    "        base = float(input(\"Enter the length of the base: \"))\n",
    "        altitude = float(input(\"Enter the altitude: \"))\n",
    "        area = base * altitude\n",
    "        print(\"The area of the parallelogram is:\", area)\n",
    "\n",
    "    def calculate_cube_area(self):\n",
    "        side_length = float(input(\"Enter the length of the side of the cube: \"))\n",
    "        area = 6 * (side_length ** 2)\n",
    "        print(\"The surface area of the cube is:\", area)\n",
    "\n",
    "    def calculate_cylinder_volume(self):\n",
    "        radius = float(input(\"Enter the radius of the cylinder: \"))\n",
    "        height = float(input(\"Enter the height of the cylinder: \"))\n",
    "        volume = (22/7) * radius ** 2 * height\n",
    "        print(\"The volume of the cylinder is:\", volume)\n",
    "\n",
    "# Main program\n",
    "calculator = ShapeCalculator()\n",
    "\n",
    "print(\"Select an equation to calculate:\")\n",
    "print(\"1. Area of Trapezium\")\n",
    "print(\"2. Area of Rhombus\")\n",
    "print(\"3. Area of Parallelogram\")\n",
    "print(\"4. Surface Area of Cube\")\n",
    "print(\"5. Volume of Cylinder\")\n",
    "\n",
    "choice = int(input(\"Enter your choice (1-5): \"))\n",
    "\n",
    "if choice == 1:\n",
    "    calculator.calculate_trapezium_area()\n",
    "elif choice == 2:\n",
    "    calculator.calculate_rhombus_area()\n",
    "elif choice == 3:\n",
    "    calculator.calculate_parallelogram_area()\n",
    "elif choice == 4:\n",
    "    calculator.calculate_cube_area()\n",
    "elif choice == 5:\n",
    "    calculator.calculate_cylinder_volume()\n",
    "else:\n",
    "    print(\"Please select a number from 1 to 5.\")\n"
   ]
  },
  {
   "cell_type": "code",
   "execution_count": null,
   "id": "682c4925",
   "metadata": {},
   "outputs": [],
   "source": []
  }
 ],
 "metadata": {
  "kernelspec": {
   "display_name": "Python 3 (ipykernel)",
   "language": "python",
   "name": "python3"
  },
  "language_info": {
   "codemirror_mode": {
    "name": "ipython",
    "version": 3
   },
   "file_extension": ".py",
   "mimetype": "text/x-python",
   "name": "python",
   "nbconvert_exporter": "python",
   "pygments_lexer": "ipython3",
   "version": "3.10.9"
  }
 },
 "nbformat": 4,
 "nbformat_minor": 5
}
