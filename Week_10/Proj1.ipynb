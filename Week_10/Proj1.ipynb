{
 "cells": [
  {
   "cell_type": "code",
   "execution_count": 1,
   "id": "91bb678b",
   "metadata": {},
   "outputs": [
    {
     "ename": "SyntaxError",
     "evalue": "invalid syntax (1534462564.py, line 8)",
     "output_type": "error",
     "traceback": [
      "\u001b[1;36m  Cell \u001b[1;32mIn[1], line 8\u001b[1;36m\u001b[0m\n\u001b[1;33m    self.stock quantity -= quantity\u001b[0m\n\u001b[1;37m               ^\u001b[0m\n\u001b[1;31mSyntaxError\u001b[0m\u001b[1;31m:\u001b[0m invalid syntax\n"
     ]
    }
   ],
   "source": [
    "Class_Orange_Shop\n",
    "def init__(self,stock,quantity= 50, price=50):\n",
    "    self. price = price\n",
    "    \n",
    "    def buy_orange(self,quantity):\n",
    "        if quantity <= self.stock_quantity:\n",
    "            Total= quantity * self.price\n",
    "            self.stock quantity -= quantity\n",
    "            print (\"Thanks for your patronage\")\n",
    "            print (\"Total is : $\",Total)\n",
    "            else:\n",
    "                print(\"Your quatity is unavailable. Try again\")\n",
    "                \n",
    "                store = online_orange_store ()\n",
    "                quality_to_buy = int(input(\"How many Oroma do you want\"))\n",
    "                store.buy_oranges(quantitiy_to_buy)"
   ]
  },
  {
   "cell_type": "code",
   "execution_count": null,
   "id": "85768610",
   "metadata": {},
   "outputs": [],
   "source": []
  }
 ],
 "metadata": {
  "kernelspec": {
   "display_name": "Python 3 (ipykernel)",
   "language": "python",
   "name": "python3"
  },
  "language_info": {
   "codemirror_mode": {
    "name": "ipython",
    "version": 3
   },
   "file_extension": ".py",
   "mimetype": "text/x-python",
   "name": "python",
   "nbconvert_exporter": "python",
   "pygments_lexer": "ipython3",
   "version": "3.10.9"
  }
 },
 "nbformat": 4,
 "nbformat_minor": 5
}
