{
 "cells": [
  {
   "cell_type": "code",
   "execution_count": 5,
   "id": "40d631f2",
   "metadata": {},
   "outputs": [
    {
     "name": "stdout",
     "output_type": "stream",
     "text": [
      "Enter the periodic payment:10000\n",
      "Enter rate 5\n",
      "Enter  time: 10\n",
      "Enter frequency of interest: 20\n",
      "Annuity plan is: 40000.0\n"
     ]
    }
   ],
   "source": [
    "#Enter periodic payment, rate, time and frequency of internet\n",
    "periodic_payment= float(input(\"Enter the periodic payment:\"))\n",
    "rate = float(input(\"Enter rate \"))\n",
    "time = float(input(\"Enter  time: \"))\n",
    "n = float(input(\"Enter frequency of interest: \"))\n",
    "\n",
    "#Calculate annuity plan\n",
    "annuity_plan = periodic_payment * ((1-(1+rate/n)**(-n*time))/(rate/n))\n",
    "\n",
    "#Display annuity plan\n",
    "print(\"Annuity plan is:\", annuity_plan)\n"
   ]
  },
  {
   "cell_type": "code",
   "execution_count": null,
   "id": "44974d24",
   "metadata": {},
   "outputs": [],
   "source": []
  }
 ],
 "metadata": {
  "kernelspec": {
   "display_name": "Python 3 (ipykernel)",
   "language": "python",
   "name": "python3"
  },
  "language_info": {
   "codemirror_mode": {
    "name": "ipython",
    "version": 3
   },
   "file_extension": ".py",
   "mimetype": "text/x-python",
   "name": "python",
   "nbconvert_exporter": "python",
   "pygments_lexer": "ipython3",
   "version": "3.10.9"
  }
 },
 "nbformat": 4,
 "nbformat_minor": 5
}
