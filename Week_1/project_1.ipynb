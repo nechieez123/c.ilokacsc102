{
 "cells": [
  {
   "cell_type": "code",
   "execution_count": 1,
   "id": "88d3f917",
   "metadata": {},
   "outputs": [
    {
     "name": "stdout",
     "output_type": "stream",
     "text": [
      "Enter the principal:10\n",
      "Enter rate 30\n",
      "Enter  time: 30\n",
      "simple interest is:  90.0\n"
     ]
    }
   ],
   "source": [
    "#Enter principal, rate, time \n",
    "principal= float(input(\"Enter the principal:\"))\n",
    "rate = float(input(\"Enter rate \"))\n",
    "time = float(input(\"Enter  time: \"))\n",
    "\n",
    "#Calculate simple interest\n",
    "simple_interest = (principal * rate * time) / 100\n",
    "\n",
    "# Display simple interest\n",
    "print(\"simple interest is: \", (simple_interest))\n"
   ]
  },
  {
   "cell_type": "code",
   "execution_count": null,
   "id": "e6c00c28",
   "metadata": {},
   "outputs": [],
   "source": []
  },
  {
   "cell_type": "code",
   "execution_count": null,
   "id": "b0a657da",
   "metadata": {},
   "outputs": [],
   "source": []
  }
 ],
 "metadata": {
  "kernelspec": {
   "display_name": "Python 3 (ipykernel)",
   "language": "python",
   "name": "python3"
  },
  "language_info": {
   "codemirror_mode": {
    "name": "ipython",
    "version": 3
   },
   "file_extension": ".py",
   "mimetype": "text/x-python",
   "name": "python",
   "nbconvert_exporter": "python",
   "pygments_lexer": "ipython3",
   "version": "3.10.9"
  }
 },
 "nbformat": 4,
 "nbformat_minor": 5
}
