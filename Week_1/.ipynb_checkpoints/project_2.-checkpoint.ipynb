{
 "cells": [
  {
   "cell_type": "code",
   "execution_count": 2,
   "id": "2528c24b",
   "metadata": {},
   "outputs": [
    {
     "name": "stdout",
     "output_type": "stream",
     "text": [
      "Enter the principal:200\n",
      "Enter rate 0.3\n",
      "Enter  time: 5\n",
      "Enter frequency of interest: 2\n",
      "Compound interest is:   609.1115471415814\n"
     ]
    }
   ],
   "source": [
    "#Enter principal, rate, time and frequency of internet\n",
    "principal= float(input(\"Enter the principal:\"))\n",
    "rate = float(input(\"Enter rate \"))\n",
    "time = float(input(\"Enter  time: \"))\n",
    "n = float(input(\"Enter frequency of interest: \"))\n",
    "\n",
    "\n",
    "# Calculate compound interest\n",
    "compound_interest = principal * (1 + rate/n)** (n * time) - principal\n",
    "\n",
    "# Print compound interest\n",
    "print(\"Compound interest is:  \",compound_interest)"
   ]
  },
  {
   "cell_type": "code",
   "execution_count": null,
   "id": "e8f0d8dc",
   "metadata": {},
   "outputs": [],
   "source": []
  }
 ],
 "metadata": {
  "kernelspec": {
   "display_name": "Python 3 (ipykernel)",
   "language": "python",
   "name": "python3"
  },
  "language_info": {
   "codemirror_mode": {
    "name": "ipython",
    "version": 3
   },
   "file_extension": ".py",
   "mimetype": "text/x-python",
   "name": "python",
   "nbconvert_exporter": "python",
   "pygments_lexer": "ipython3",
   "version": "3.10.9"
  }
 },
 "nbformat": 4,
 "nbformat_minor": 5
}
