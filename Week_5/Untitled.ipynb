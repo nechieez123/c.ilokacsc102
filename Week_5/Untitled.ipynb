{
 "cells": [
  {
   "cell_type": "code",
   "execution_count": 5,
   "id": "daea38fb",
   "metadata": {},
   "outputs": [
    {
     "name": "stdout",
     "output_type": "stream",
     "text": [
      "10\n",
      "20\n",
      "30\n",
      "40\n"
     ]
    }
   ],
   "source": [
    "#Print multiples of 10 for numbers in a given range\n",
    "for num in range(5):\n",
    "    if num > 0:\n",
    "        print(num * 10)"
   ]
  },
  {
   "cell_type": "code",
   "execution_count": 6,
   "id": "b583eded",
   "metadata": {},
   "outputs": [
    {
     "name": "stdout",
     "output_type": "stream",
     "text": [
      "1\n",
      "2\n",
      "3\n",
      "4\n",
      "5\n"
     ]
    }
   ],
   "source": [
    "#Print first 5 natural numbers using while loop\n",
    "count=1\n",
    "while count <= 5:\n",
    "    print(count)\n",
    "    count += 1"
   ]
  },
  {
   "cell_type": "code",
   "execution_count": 8,
   "id": "a9b466ce",
   "metadata": {},
   "outputs": [
    {
     "name": "stdout",
     "output_type": "stream",
     "text": [
      "End of loop\n"
     ]
    }
   ],
   "source": [
    "num = 0\n",
    "for num in range(6):\n",
    "    num = num + 1\n",
    "    if num == 3:\n",
    "        continue\n",
    "        print('Num has value' + str(num))\n",
    "print('End of loop')"
   ]
  },
  {
   "cell_type": "code",
   "execution_count": 10,
   "id": "3ff7b7e1",
   "metadata": {},
   "outputs": [
    {
     "name": "stdout",
     "output_type": "stream",
     "text": [
      "Iteration1of outer loop\n",
      "1\n",
      "Out of inner loop\n",
      "Out of inner loop\n",
      "2\n",
      "Out of inner loop\n",
      "Out of inner loop\n",
      "Iteration2of outer loop\n",
      "1\n",
      "Out of inner loop\n",
      "Out of inner loop\n",
      "2\n",
      "Out of inner loop\n",
      "Out of inner loop\n",
      "Iteration3of outer loop\n",
      "1\n",
      "Out of inner loop\n",
      "Out of inner loop\n",
      "2\n",
      "Out of inner loop\n",
      "Out of inner loop\n"
     ]
    }
   ],
   "source": [
    "for var1 in range(3):\n",
    "    print(\"Iteration\" + str(var1 + 1) + \"of outer loop\")\n",
    "    for var2 in range(2): #nested loop\n",
    "        print(var2 + 1)\n",
    "        print(\"Out of inner loop\")\n",
    "        print(\"Out of inner loop\")"
   ]
  },
  {
   "cell_type": "code",
   "execution_count": 11,
   "id": "0f06e58f",
   "metadata": {},
   "outputs": [
    {
     "name": "stdout",
     "output_type": "stream",
     "text": [
      "Enter name of City 1: Adamawa\n",
      "Enter name of City 2: Yola\n",
      "The name of city 1 after swapping is Yola\n",
      "The name of city 2 after swapping is Adamawa\n"
     ]
    }
   ],
   "source": [
    "# Python program to swap two cities \n",
    "\n",
    "#To take inputs from th user\n",
    "city_1 = input('Enter name of City 1: ')\n",
    "city_2 = input('Enter name of City 2: ')\n",
    "\n",
    "#create a temporary variable and swap the cities\n",
    "temp = city_1\n",
    "city_1 = city_2\n",
    "city_2 = temp\n",
    "\n",
    "print(f\"The name of city 1 after swapping is {city_1}\")\n",
    "print(f\"The name of city 2 after swapping is {city_2}\")\n"
   ]
  },
  {
   "cell_type": "code",
   "execution_count": 13,
   "id": "07747598",
   "metadata": {},
   "outputs": [
    {
     "name": "stdout",
     "output_type": "stream",
     "text": [
      "Enter a number: 30\n",
      "Positive number\n"
     ]
    }
   ],
   "source": [
    "# Program to Chek if a Number is Positive, Negative or 0\n",
    "\n",
    "num = float(input(\"Enter a number: \"))\n",
    "if num > 0:\n",
    "    print (\"Positive number\")\n",
    "elif num== 0:\n",
    "        print(\"Zero\")\n",
    "else:\n",
    "            print (\"Negative number\")"
   ]
  },
  {
   "cell_type": "code",
   "execution_count": 15,
   "id": "35b2e36a",
   "metadata": {},
   "outputs": [
    {
     "name": "stdout",
     "output_type": "stream",
     "text": [
      "Welcome to the COUPE DE ESCRIVA 2023: FOOTBALL PICKS \n",
      "\n",
      "Madiba: Chubby Obiora-Okafo\n",
      "\n",
      "\n",
      "Madiba:  Chubby Obiora-Okafo\n",
      "Blue-Jays Oladimeji Abaniwondea/Jeffery Awagu\n",
      "Cirok:  Timileyin Pearse/Izuako Jeremy\n",
      "TSG Walkers:  Ayomide Ojituku\n",
      "Blue-Jays:  Christopher Uweh\n",
      "\n",
      "\n",
      "Madiba:  Chubby Obiora-Okafo\n",
      "Blue-Jays Oladimeji Abaniwondea/Jeffery Awagu\n",
      "Cirok:  Timileyin Pearse/Izuako Jeremy\n",
      "TSG Walkers:  Ayomide Ojituku\n",
      "Cirok:  Alexander\n",
      "\n",
      "\n",
      "Madiba:  Chubby Obiora-Okafo\n",
      "Blue-Jays Oladimeji Abaniwondea/Jeffery Awagu\n",
      "Cirok:  Timileyin Pearse/Izuako Jeremy\n",
      "TSG Walkers:  Ayomide Ojituku\n",
      "TSG Walkers: Ikechukwu\n",
      "\n",
      "\n",
      "Madiba:  Chubby Obiora-Okafo\n",
      "Blue-Jays Oladimeji Abaniwondea/Jeffery Awagu\n",
      "Cirok:  Timileyin Pearse/Izuako Jeremy\n",
      "TSG Walkers:  Ayomide Ojituku\n"
     ]
    }
   ],
   "source": [
    "# COUPE DE ESCRIVA 2023: FOOTBALL PICKS\n",
    "\n",
    "print(\"Welcome to the COUPE DE ESCRIVA 2023: FOOTBALL PICKS \\n\")\n",
    "\n",
    "captain = {'Madiba:': 'Chubby Obiora-Okafo', 'Blue-Jays: ': 'Christopher Uweh', 'Cirok: ': 'Alexander', 'TSG Walkers:': 'Ikechukwu'}\n",
    "\n",
    "goalkeepers = {'Madiba: ': 'Chubby Obiora-Okafo',\n",
    "              'Blue-Jays': 'Oladimeji Abaniwondea/Jeffery Awagu',\n",
    "              'Cirok: ': 'Timileyin Pearse/Izuako Jeremy',\n",
    "              'TSG Walkers: ': 'Ayomide Ojituku'}\n",
    "\n",
    "for pick in captain:\n",
    "    print(pick, captain[pick])\n",
    "    \n",
    "    print(\"\\n\")\n",
    "    \n",
    "    for pick in goalkeepers:\n",
    "        print(pick, goalkeepers[pick])"
   ]
  },
  {
   "cell_type": "code",
   "execution_count": null,
   "id": "3547ac9f",
   "metadata": {},
   "outputs": [],
   "source": [
    "'Female Name': {Samantha, Jada, Jane, Claire, Elizabeth, Mary, Susan, Waje, Talibat, Lilian},\n",
    "    'Male Name':{Charles, Jude, James, Kelvin, Biodun, Wale, Kunle, Matthew, Tom, Kayode},\n",
    "        'Female Age' : {17,16,17,18,16,18,17,20,19,17}\n",
    "            'Female Height' : {5.5,6.0,5.4,5.9,5.6,5.5,6.1,6.0,5.7,5.5}\n",
    "                'Female Scores' : {80,85,70,60,76,66,87,95,50,49}\n",
    "                    'Male Age' : {}\n",
    "                    'Male Height' :{}\n",
    "                    'Male Scores' :{}"
   ]
  },
  {
   "cell_type": "code",
   "execution_count": 16,
   "id": "722229c5",
   "metadata": {},
   "outputs": [
    {
     "name": "stdout",
     "output_type": "stream",
     "text": [
      "Name      Age       Height    scores    \n",
      "Samantha  17        5.5       80        \n",
      "Jada      16        6.0       85        \n",
      "Jane      17        5.4       70        \n",
      "Claire    18        5.9       60        \n",
      "Elizabeth 16        5.6       76        \n",
      "Mary      18        5.5       66        \n",
      "Susan     17        6.1       87        \n",
      "Waje      20        6.0       95        \n",
      "Taibat    19        5.7       50        \n",
      "Lilian    17        5.5       49        \n"
     ]
    }
   ],
   "source": [
    "# Define the data for the table\n",
    "data = [\n",
    "    ['Samantha', 17, 5.5, 80],\n",
    "    ['Jada', 16, 6.0,     85],\n",
    "    ['Jane', 17, 5.4,     70],\n",
    "    ['Claire', 18, 5.9,   60],\n",
    "    ['Elizabeth', 16, 5.6,76],\n",
    "    ['Mary', 18, 5.5,     66],\n",
    "    ['Susan', 17, 6.1,    87],\n",
    "    ['Waje', 20, 6.0,     95],\n",
    "    ['Taibat', 19, 5.7,   50],\n",
    "    ['Lilian', 17, 5.5,   49],\n",
    "]\n",
    "\n",
    "\n",
    "# Define the table heading\n",
    "heading = ['Name', 'Age', 'Height', 'scores']\n",
    "\n",
    "# Print the table heading\n",
    "for col in heading:\n",
    "    print(f'{col:<10}', end='')\n",
    "\n",
    "# Print a newline to move to the next row\n",
    "print()\n",
    "\n",
    "# Print the table data\n",
    "for row in data:\n",
    "    for col in row:\n",
    "        print(f'{col:<10}', end='')\n",
    "    print()"
   ]
  },
  {
   "cell_type": "code",
   "execution_count": 19,
   "id": "c2e7fca5",
   "metadata": {},
   "outputs": [
    {
     "name": "stdout",
     "output_type": "stream",
     "text": [
      "Annual Tax Revenue: N5600000\n"
     ]
    }
   ],
   "source": [
    "def calculate_tax(years_of_experience, age):\n",
    "    if years_of_experience > 25 and age >= 55:\n",
    "        return 5600000\n",
    "    elif years_of_experience > 20 and age >= 45:\n",
    "        return 4480000\n",
    "    elif years_of_experience > 10 and age >= 35:\n",
    "        return 1500000\n",
    "    else:\n",
    "        return 550000\n",
    "    # Example usage\n",
    "staff_years_of_experience = 30\n",
    "staff_age = 60\n",
    "staff_atr = calculate_tax(staff_years_of_experience, staff_age)\n",
    "print(\"Annual Tax Revenue: N\" + str(staff_atr))\n",
    "\n"
   ]
  },
  {
   "cell_type": "code",
   "execution_count": null,
   "id": "479974bf",
   "metadata": {},
   "outputs": [],
   "source": []
  }
 ],
 "metadata": {
  "kernelspec": {
   "display_name": "Python 3 (ipykernel)",
   "language": "python",
   "name": "python3"
  },
  "language_info": {
   "codemirror_mode": {
    "name": "ipython",
    "version": 3
   },
   "file_extension": ".py",
   "mimetype": "text/x-python",
   "name": "python",
   "nbconvert_exporter": "python",
   "pygments_lexer": "ipython3",
   "version": "3.10.9"
  }
 },
 "nbformat": 4,
 "nbformat_minor": 5
}
