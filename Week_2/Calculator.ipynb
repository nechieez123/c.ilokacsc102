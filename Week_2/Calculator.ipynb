{
 "cells": [
  {
   "cell_type": "code",
   "execution_count": 7,
   "id": "406a89e6",
   "metadata": {},
   "outputs": [
    {
     "ename": "IndentationError",
     "evalue": "unexpected indent (3600902706.py, line 21)",
     "output_type": "error",
     "traceback": [
      "\u001b[1;36m  Cell \u001b[1;32mIn[7], line 21\u001b[1;36m\u001b[0m\n\u001b[1;33m    print(\"x1= {x1}, x2= {x2}, x3= {x3}\")\u001b[0m\n\u001b[1;37m    ^\u001b[0m\n\u001b[1;31mIndentationError\u001b[0m\u001b[1;31m:\u001b[0m unexpected indent\n"
     ]
    }
   ],
   "source": [
    "#Cubic equation calculator\n",
    "import math\n",
    "print(\"Cubic equation calculator\")\n",
    "print(\"ax^3 + bx^2 + cx +d =0\")\n",
    "#Request inputs\n",
    "a= float(input(\"Enter A:\"))\n",
    "b=float(input(\"Enter B:\"))\n",
    "c=float(input(\"Enter C:\"))\n",
    "d=float(input(\"Enter D:\"))\n",
    "\n",
    "#Calculate the Discriminant\n",
    "discriminant = (b**2) - (4*a*c)\n",
    "\n",
    "#when discriminant is positive\n",
    "if DI >0:\n",
    "    x1= ((math.sqrt(DI))-b)/2*a\n",
    "    x2=(-(math.sqrt(DI))-b)/2*a\n",
    "    x3=((math.sqrt(DI))-b)/2*a\n",
    "        \n",
    "        \n",
    "        print(\"x1= {x1}, x2= {x2}, x3= {x3}\")\n",
    "\n",
    "        \n",
    "#when is discriminant is 0\n",
    "if DI==0:\n",
    "        x= -b/2*a\n",
    "        print(\"x={x}\")\n",
    "\n",
    "#when discriminant is negative\n",
    "if DI<0\n",
    "ci =1j\n",
    "p= -b/2*a\n",
    "z= math.qrt(DI)\n",
    "q= -z/2*a\n",
    "\n",
    "x1= p + (c1*q)\n",
    "x2= p - (c1*q)\n",
    "\n",
    "print(\"x1={x1}, x2={x2}\")\n",
    "print(\" COMPLETED\")\n",
    "              "
   ]
  },
  {
   "cell_type": "code",
   "execution_count": 8,
   "id": "3493701d",
   "metadata": {},
   "outputs": [
    {
     "ename": "SyntaxError",
     "evalue": "invalid non-printable character U+00A0 (1404985074.py, line 38)",
     "output_type": "error",
     "traceback": [
      "\u001b[1;36m  Cell \u001b[1;32mIn[8], line 38\u001b[1;36m\u001b[0m\n\u001b[1;33m    print(root1, root2, root3, root4)\u001b[0m\n\u001b[1;37m                       ^\u001b[0m\n\u001b[1;31mSyntaxError\u001b[0m\u001b[1;31m:\u001b[0m invalid non-printable character U+00A0\n"
     ]
    }
   ],
   "source": [
    "#quartic root\n",
    "import cmath\n",
    "\n",
    "#request inputs\n",
    "a = float(input(\"Enter the coefficient of x^4: \"))\n",
    "b = float(input(\"Enter the coefficient of x^3: \"))\n",
    "c = float(input(\"Enter the coefficient of x^2: \"))\n",
    "d = float(input(\"Enter the coefficient of x: \"))\n",
    "e = float(input(\"Enter the constant integer: \"))\n",
    "\n",
    "# define the auxiliary variables\n",
    "f = (8*a*c - 3*(b*2))/(8(a**2))\n",
    "g = (b*3 - 4*a*b*c + 8(a*2)*d)/(8(a**3))\n",
    "h = (-3*(b*4) + 256(a*3)*e - 64*a(b*2)*d + 16*a*b*c2 - 16(a*2)*b2*c)/(256(a**4))\n",
    "\n",
    "# solve for the discriminant\n",
    "discriminant = (g**2) - (4*f*h)\n",
    "\n",
    "# solve for the complex roots if discriminant is negative\n",
    "if discriminant < 0:\n",
    "    root1 = (-g + cmath.sqrt(discriminant))/(2*f)\n",
    "    root2 = (-g - cmath.sqrt(discriminant))/(2*f)\n",
    "    root3 = (-b + cmath.sqrt(abs(discriminant)))/(4*a)\n",
    "    root4 = (-b - cmath.sqrt(abs(discriminant)))/(4*a)\n",
    "    print(\"The complex roots are: \")\n",
    "    print(root1, root2, root3, root4)\n",
    "\n",
    "# solve for the real roots if discriminant is zero or positive\n",
    "else:\n",
    "    i = cmath.sqrt(-1)\n",
    "    C = ((g + cmath.sqrt(discriminant))/(2*f))**(1/3)\n",
    "    D = ((g - cmath.sqrt(discriminant))/(2*f))**(1/3)\n",
    "    root1 = (-b/(4*a)) - (C + D)\n",
    "    root2 = (-b/(4*a)) + (0.5 + 0.5*i*cmath.sqrt(3))*(C - D)\n",
    "    root3 = (-b/(4*a)) + (0.5 - 0.5*i*cmath.sqrt(3))*(C - D)\n",
    "    root4 = (-b/(4*a)) + (C + D)\n",
    "    print(\"The real roots are: \")\n",
    "    print(root1, root2, root3, root4)"
   ]
  },
  {
   "cell_type": "code",
   "execution_count": null,
   "id": "ce88fe62",
   "metadata": {},
   "outputs": [],
   "source": []
  }
 ],
 "metadata": {
  "kernelspec": {
   "display_name": "Python 3 (ipykernel)",
   "language": "python",
   "name": "python3"
  },
  "language_info": {
   "codemirror_mode": {
    "name": "ipython",
    "version": 3
   },
   "file_extension": ".py",
   "mimetype": "text/x-python",
   "name": "python",
   "nbconvert_exporter": "python",
   "pygments_lexer": "ipython3",
   "version": "3.10.9"
  }
 },
 "nbformat": 4,
 "nbformat_minor": 5
}
