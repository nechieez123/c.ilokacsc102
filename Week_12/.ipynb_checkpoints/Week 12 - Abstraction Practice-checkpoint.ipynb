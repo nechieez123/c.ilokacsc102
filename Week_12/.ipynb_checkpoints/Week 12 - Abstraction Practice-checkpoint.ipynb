{
 "cells": [
  {
   "cell_type": "markdown",
   "metadata": {},
   "source": [
    "# What is Abstraction in OOP"
   ]
  },
  {
   "cell_type": "markdown",
   "metadata": {},
   "source": [
    "# <ul><li>Abstraction is the concept of object-oriented programming that “shows” only essential attributes and “hides” unnecessary information.</li><li>The main purpose of abstraction is hiding the unnecessary details from the users. </li><li> Abstraction is selecting data from a larger pool to show only relevant details of the object to the user. </li><li> It helps in reducing programming complexity and efforts. </li><li>It is one of the most important concepts of OOPs.</li></ul> "
   ]
  },
  {
   "cell_type": "markdown",
   "metadata": {},
   "source": [
    "# Abstraction in Python"
   ]
  },
  {
   "cell_type": "markdown",
   "metadata": {},
   "source": [
    "<ul><li>Abstraction in python is defined as hiding the implementation of logic from the client and using the particular application. </li><li>It hides the irrelevant data specified in the project, reducing complexity and giving value to the efficiency.</li><li> Abstraction is made in Python using <b>Abstract classes</b> and their methods in the code.</li></ul>"
   ]
  },
  {
   "cell_type": "markdown",
   "metadata": {},
   "source": [
    "## What is an Abstract Class?"
   ]
  },
  {
   "cell_type": "markdown",
   "metadata": {},
   "source": [
    "<ul><li>Abstract Class is a type of class in OOPs, that declare one or more abstract methods. </li><li>These classes can have abstract methods as well as concrete methods. </li><li>A normal class cannot have abstract methods.</li><li>An abstract class is a class that contains at least one abstract method.</li></ul>"
   ]
  },
  {
   "cell_type": "markdown",
   "metadata": {},
   "source": [
    "## What are Abstract Methods?\n",
    "<ul><li>Abstract Method is a method that has just the method definition but does not contain implementation.</li><li>A method without a body is known as an Abstract Method.</li><li>It must be declared in an abstract class.</li><li>The abstract method will never be final because the abstract class must implement all the abstract methods.</li></ul>"
   ]
  },
  {
   "cell_type": "markdown",
   "metadata": {},
   "source": [
    "## When to use Abstract Methods & Abstract Class?\n",
    "<ul><li>Abstract methods are mostly declared where two or more subclasses are also doing the same thing in different ways through different implementations.</li><li>It also extends the same Abstract class and offers different implementations of the abstract methods.</li><li>Abstract classes help to describe generic types of behaviors and object-oriented programming class hierarchy. </li><li>It also describes subclasses to offer implementation details of the abstract class.</li></ul>"
   ]
  },
  {
   "cell_type": "markdown",
   "metadata": {},
   "source": [
    "## Difference between Abstraction and Encapsulation"
   ]
  },
  {
   "cell_type": "markdown",
   "metadata": {},
   "source": [
    "<table style=\"background-color:#ffe6e6\">\n",
    "    <tr><th><b>Abstraction</b></th><th><b>Encapsulation</b></th></tr>\n",
    "    <tr><td>Abstraction in Object Oriented Programming solves the issues at the design level.</td><td>Encapsulation solves it implementation level.</td></tr>\n",
    "    <tr><td>Abstraction in Programming is about hiding unwanted details while showing most essential information.</td><td>Encapsulation means binding the code and data into a single unit.</td></tr>\n",
    "    <tr><td>Data Abstraction in Java allows focussing on what the information object must contain</td><td>Encapsulation means hiding the internal details or mechanics of how an object does something for security reasons.</td></tr>\n",
    "</table>"
   ]
  },
  {
   "cell_type": "markdown",
   "metadata": {},
   "source": [
    "## Advantages of Abstraction\n",
    "<ol><li>The main benefit of using an Abstraction in Programming is that it allows you to group several related classes as siblings.</li><li>\n",
    "Abstraction in Object Oriented Programming helps to reduce the complexity of the design and implementation process of software.</li></ol>"
   ]
  },
  {
   "cell_type": "markdown",
   "metadata": {},
   "source": [
    "## How Abstract Base classes work : \n",
    "<ul><li>By default, Python does not provide abstract classes. Python comes with a module that provides the base for defining Abstract Base classes(ABC) and that module name is ABC. </li><li>ABC works by decorating methods of the base class as abstract and then registering concrete classes as implementations of the abstract base. </li><li>A method becomes abstract when decorated with the keyword @abstractmethod.</li></ul>"
   ]
  },
  {
   "cell_type": "markdown",
   "metadata": {},
   "source": [
    "#### Syntax\n",
    "\n",
    "Abstract class Syntax is declared as:"
   ]
  },
  {
   "cell_type": "code",
   "execution_count": 1,
   "metadata": {},
   "outputs": [
    {
     "ename": "SyntaxError",
     "evalue": "incomplete input (414290653.py, line 5)",
     "output_type": "error",
     "traceback": [
      "\u001b[1;36m  Cell \u001b[1;32mIn[1], line 5\u001b[1;36m\u001b[0m\n\u001b[1;33m    \u001b[0m\n\u001b[1;37m    ^\u001b[0m\n\u001b[1;31mSyntaxError\u001b[0m\u001b[1;31m:\u001b[0m incomplete input\n"
     ]
    }
   ],
   "source": [
    "from abc import ABC\n",
    "\n",
    "# declaration\n",
    "class classname(ABC):\n",
    "        "
   ]
  },
  {
   "cell_type": "markdown",
   "metadata": {},
   "source": [
    "Abstract method Syntax is declared as"
   ]
  },
  {
   "cell_type": "code",
   "execution_count": null,
   "metadata": {},
   "outputs": [],
   "source": [
    "def abstractmethod_name():\n",
    "        "
   ]
  },
  {
   "cell_type": "markdown",
   "metadata": {},
   "source": [
    "### Few things to be noted in Python:\n",
    "\n",
    "<ul><li>In python, an abstract class can hold both an abstract method and a normal method.</li><li>\n",
    "The second point is an abstract class is not initiated (no objects are created).</li><li>\n",
    "The derived class implementation methods are defined in abstract base classes.</li></ul>"
   ]
  },
  {
   "cell_type": "code",
   "execution_count": null,
   "metadata": {},
   "outputs": [],
   "source": [
    "from ABC import abc\n",
    "\n",
    "# here abc and ABC are case-sensitive. When we swap it creates"
   ]
  },
  {
   "cell_type": "markdown",
   "metadata": {},
   "source": [
    "### Code I:"
   ]
  },
  {
   "cell_type": "code",
   "execution_count": 1,
   "metadata": {},
   "outputs": [],
   "source": [
    "from abc import ABC, abstractmethod\n",
    "\n",
    "# Abstract Class\n",
    "class product(ABC):\n",
    "    \n",
    "    # Normal Method\n",
    "    def item_list(self, rate):\n",
    "        print(\"amount submitted: \", rate)\n",
    "    \n",
    "    # Abstract Method\n",
    "    @abstractmethod\n",
    "    def product(self, rate):\n",
    "        pass\n"
   ]
  },
  {
   "cell_type": "markdown",
   "metadata": {},
   "source": [
    "### Code II:\n",
    "A program to generate the volume of geometric shapes"
   ]
  },
  {
   "cell_type": "code",
   "execution_count": 6,
   "metadata": {},
   "outputs": [
    {
     "name": "stdout",
     "output_type": "stream",
     "text": [
      "Volume of a rectangle: 144\n",
      "Volume of a sphere: 2143.5733333333333\n",
      "Volume of a cube: 125\n",
      "Volume of a triangle: 10.0\n"
     ]
    }
   ],
   "source": [
    "from abc import ABC\n",
    "\n",
    "class geometric(ABC):\n",
    "    \n",
    "    def volume(self):\n",
    "        # abstract method\n",
    "        pass\n",
    "    \n",
    "class Rect(geometric):\n",
    "    length = 4\n",
    "    width = 6\n",
    "    height = 6\n",
    "    \n",
    "    def volume(self):\n",
    "        return self.length * self.width * self.height\n",
    "    \n",
    "class Sphere(geometric):\n",
    "    radius = 8\n",
    "    \n",
    "    def volume(self):\n",
    "        return (4/3) * 3.14 * self.radius * self.radius * self.radius\n",
    "    \n",
    "class Cube(geometric):\n",
    "    Edge = 5\n",
    "    \n",
    "    def volume(self):\n",
    "        return self.Edge * self.Edge * self.Edge\n",
    "      \n",
    "class Triangle_3D(geometric):\n",
    "    length = 5\n",
    "    width = 4\n",
    "    \n",
    "    def volume(self):\n",
    "        return 0.5 * self.length * self.width\n",
    "    \n",
    "rr = Rect()\n",
    "ss = Sphere()\n",
    "cc = Cube()\n",
    "tt = Triangle_3D()\n",
    "print(\"Volume of a rectangle:\", rr.volume())\n",
    "print(\"Volume of a sphere:\", ss.volume())\n",
    "print(\"Volume of a cube:\", cc.volume())\n",
    "print(\"Volume of a triangle:\", tt.volume())\n"
   ]
  },
  {
   "cell_type": "markdown",
   "metadata": {},
   "source": [
    "### Code III\n",
    "A program to generate different invoices"
   ]
  },
  {
   "cell_type": "code",
   "execution_count": null,
   "metadata": {},
   "outputs": [],
   "source": [
    "from abc import ABC, abstractmethod\n",
    "\n",
    "class Bill(ABC):\n",
    "    def final_bill(self, pay):\n",
    "        print('Purchase of the product:', pay)\n",
    "        \n",
    "    @abstractmethod\n",
    "    def Invoice(self, pay):\n",
    "        pass\n",
    "    \n",
    "class Paycheque(Bill):\n",
    "    def Invoice(self, pay):\n",
    "        print('Paycheque of:', pay)\n",
    "        \n",
    "class CardPayment(Bill):\n",
    "    def Invoice(self, pay):\n",
    "        print('Pay through card of:', pay)\n",
    "        \n",
    "aa = Paycheque()\n",
    "aa.Invoice(6500)\n",
    "aa.final_bill(6500)\n",
    "print(isinstance(aa, Paycheque))\n",
    "\n",
    "aa = CardPayment()\n",
    "aa.Invoice(2600)\n",
    "aa.final_bill(2600)\n",
    "print(isinstance(aa, CardPayment))\n"
   ]
  },
  {
   "cell_type": "markdown",
   "metadata": {},
   "source": [
    "### Code IV:\n",
    " Python program showing abstract base class work"
   ]
  },
  {
   "cell_type": "code",
   "execution_count": null,
   "metadata": {},
   "outputs": [],
   "source": [
    "from abc import ABC, abstractmethod\n",
    "\n",
    "class Animal(ABC):\n",
    "    @abstractmethod\n",
    "    def move(self):\n",
    "        pass\n",
    "\n",
    "class Human(Animal):\n",
    "    def move(self, animal):\n",
    "        print(f\"\\nYou are a {animal}. You can walk and run\")\n",
    "\n",
    "class Snake(Animal):\n",
    "    def move(self, animal):\n",
    "        print(f\"\\nYou are a {animal}. You can crawl\")\n",
    "\n",
    "class Dog(Animal):\n",
    "    def move(self, animal):\n",
    "        print(f\"\\nYou are a {animal}. You can bark\")\n",
    "\n",
    "class Lion(Animal):\n",
    "    def move(self, animal):\n",
    "        print(f\"\\nYou are a {animal}. You can roar\")\n",
    "\n",
    "# Object Instantiation\n",
    "animal = input(\"What animal species are you?: \")\n",
    "\n",
    "if animal == \"Human\":\n",
    "    H = Human()\n",
    "    H.move(animal)\n",
    "elif animal == \"Snake\":\n",
    "    S = Snake()\n",
    "    S.move(animal)\n",
    "elif animal == \"Dog\":\n",
    "    D = Dog()\n",
    "    D.move(animal)\n",
    "elif animal == \"Lion\":\n",
    "    L = Lion()\n",
    "    L.move(animal)\n",
    "else:\n",
    "    print(\"Invalid animal species\")\n"
   ]
  },
  {
   "cell_type": "markdown",
   "metadata": {},
   "source": [
    "### Concrete Methods in Abstract Base Classes : \n",
    "<ul><li>Concrete (normal) classes contain only concrete (normal) methods whereas abstract classes may contain both concrete methods and abstract methods.</li><li> The concrete class provides an implementation of abstract methods, the abstract base class can also provide an implementation by invoking the methods via super().</li></ul>"
   ]
  },
  {
   "cell_type": "markdown",
   "metadata": {},
   "source": [
    "### Code V:\n",
    "Python program invoking a method using super()"
   ]
  },
  {
   "cell_type": "code",
   "execution_count": null,
   "metadata": {},
   "outputs": [],
   "source": [
    "from abc import ABC, abstractmethod\n",
    "\n",
    "class R(ABC):\n",
    "    def rk(self):\n",
    "        print(\"Abstract Base Class\")\n",
    "\n",
    "class K(R):\n",
    "    def rk(self):\n",
    "        print(\"Subclass\")\n",
    "\n",
    "# Object instantiation\n",
    "r = K()\n",
    "r.rk()\n"
   ]
  },
  {
   "cell_type": "markdown",
   "metadata": {},
   "source": [
    "### Code VI:"
   ]
  },
  {
   "cell_type": "code",
   "execution_count": null,
   "metadata": {},
   "outputs": [],
   "source": [
    "from abc import ABC, abstractmethod\n",
    "\n",
    "class Bank(ABC):\n",
    "    def branch(self, Naira):\n",
    "        print(\"Fees submitted : \",Naira)\n",
    "   \n",
    "    @abstractmethod\n",
    "    def Bank(Naira):\n",
    "       pass \n",
    "    \n",
    "class private(Bank):\n",
    "    def Bank(Naira):\n",
    "        print(\"Total Naira Value here: \",Naira)\n",
    "        \n",
    "class public(Bank):\n",
    "    def Bank(Naira):\n",
    "        print(\"Total Naira Value here:\",Naira)\n",
    "\n",
    "private.Bank(5000)\n",
    "public.Bank(2000)\n",
    "\n",
    "a = public()\n",
    "#a.branch(3500)"
   ]
  },
  {
   "cell_type": "markdown",
   "metadata": {},
   "source": [
    "## Class Project I"
   ]
  },
  {
   "cell_type": "markdown",
   "metadata": {},
   "source": [
    "Develop a python OOP program that creates an abstract base class called coup_de_ecriva.  The base class will have one abstract method called <b>Fan_Page</b> and four subclassses namely; <b>FC_Cirok, Madiba_FC, Blue_Jay_FC and TSG_Walker</b>. The program will receive as input the name of the club the user supports and instantiate an object that will invoke the <b>Fan_Page</b> method in the subclass that prints Welcome to <b>\"club name\"</b>.\n",
    "\n",
    "<p><b>Hint:</b></p>\n",
    "The subclasses will use <b>Single Inheritance</b> to inherit the abstract base class.\n",
    " "
   ]
  },
  {
   "cell_type": "code",
   "execution_count": 7,
   "metadata": {},
   "outputs": [
    {
     "name": "stdout",
     "output_type": "stream",
     "text": [
      "Enter the name of the club you support: Blue Jay FC\n",
      "Welcome to Blue Jay FC Fan Page\n"
     ]
    }
   ],
   "source": [
    "from abc import ABC, abstractmethod\n",
    "\n",
    "class coup_de_ecriva(ABC):\n",
    "    @abstractmethod\n",
    "    def Fan_Page(self):\n",
    "        pass\n",
    "\n",
    "class FC_Cirok(coup_de_ecriva):\n",
    "    def Fan_Page(self):\n",
    "        print(\"Welcome to FC Cirok Fan Page\")\n",
    "\n",
    "class Madiba_FC(coup_de_ecriva):\n",
    "    def Fan_Page(self):\n",
    "        print(\"Welcome to Madiba FC Fan Page\")\n",
    "\n",
    "class Blue_Jay_FC(coup_de_ecriva):\n",
    "    def Fan_Page(self):\n",
    "        print(\"Welcome to Blue Jay FC Fan Page\")\n",
    "\n",
    "class TSG_Walker(coup_de_ecriva):\n",
    "    def Fan_Page(self):\n",
    "        print(\"Welcome to TSG Walker Fan Page\")\n",
    "\n",
    "# User Input\n",
    "club_name = input(\"Enter the name of the club you support: \")\n",
    "\n",
    "# Object instantiation\n",
    "if club_name == \"FC Cirok\":\n",
    "    fan_page = FC_Cirok()\n",
    "elif club_name == \"Madiba FC\":\n",
    "    fan_page = Madiba_FC()\n",
    "elif club_name == \"Blue Jay FC\":\n",
    "    fan_page = Blue_Jay_FC()\n",
    "elif club_name == \"TSG Walker\":\n",
    "    fan_page = TSG_Walker()\n",
    "else:\n",
    "    print(\"Invalid club name entered.\")\n",
    "    exit()\n",
    "\n",
    "# Invoke the Fan_Page method\n",
    "fan_page.Fan_Page()\n"
   ]
  },
  {
   "cell_type": "markdown",
   "metadata": {},
   "source": [
    "## Class Project II"
   ]
  },
  {
   "cell_type": "markdown",
   "metadata": {},
   "source": [
    "The Service Unit of PAU has contacted you to develop a program to manage some of the External Food Vendors. With your knowledge in python OOP develop a program to manage the PAU External Food Vendors. The program receives as input the vendor of interest and display the menu of the interested vendor. The External vendors are Faith hostel, Cooperative Hostel, and Student Center. Find below the menus:\n",
    "\n",
    "<table><tr><td>\n",
    "<table style=\"background-color:#47b5ff\">\n",
    "    <tr><th colspan='2'>Cooperative Cafeteria</th></tr>\n",
    "    <tr><th>Main Meal</th><th>Price (N)</th></tr>\n",
    "    <tr><td>Jollof Rice and Stew</td><td>200</td></tr>\n",
    "    <tr><td>White Rice and Stew</td><td>200</td></tr>\n",
    "    <tr><td>Fried Rice</td><td>200</td></tr>\n",
    "    <tr><td>Salad</td><td>100</td></tr>\n",
    "    <tr><td>Platain</td><td>100</td></tr>\n",
    "</table>\n",
    "    </td><td>\n",
    "<table style=\"background-color:pink\">\n",
    "    <tr><th colspan='2'>Faith Hostel Cafeteria</th></tr>\n",
    "    <tr><th>Main Meal</th><th>Price (N)</th></tr>\n",
    "    <tr><td>Fried Rice</td><td>400</td></tr>\n",
    "    <tr><td>White Rice and Stew</td><td>400</td></tr>\n",
    "    <tr><td>Jollof Rice</td><td>400</td></tr>\n",
    "    <tr><td>Beans</td><td>200</td></tr>\n",
    "    <tr><td>Chicken</td><td>1000</td></tr>\n",
    "</table>\n",
    "    </td><td>\n",
    "    <table style=\"background-color:#fcf96c\">\n",
    "    <tr><th colspan='2'>Student Centre Cafeteria</th></tr>\n",
    "    <tr><th>Main Meal</th><th>Price (N)</th></tr>\n",
    "    <tr><td>Chicken Fried Rice</td><td>800</td></tr>\n",
    "    <tr><td>Pomo Sauce</td><td>300</td></tr>\n",
    "    <tr><td>Spaghetti Jollof</td><td>500</td></tr>\n",
    "    <tr><td>Amala/Ewedu</td><td>500</td></tr>\n",
    "    <tr><td>Semo with Eforiro Soup</td><td>500</td></tr>\n",
    "</table>\n",
    "    </td></tr>\n",
    "<table>\n",
    "    \n",
    "<p><b>Hints:</b></p>\n",
    "    <ul><li>The abstract base class is called <b>External_Vendors()</b>.</li><li>\n",
    "        The abstract method is called <b>menu()</b>.</li><li>\n",
    "The subclasses (the different vendors) will inherit the abstract base class.</li><li>\n",
    "        Each subclass will have a normal method called <b>menu()</b>.</li></ul>\n",
    "    \n",
    "       "
   ]
  },
  {
   "cell_type": "code",
   "execution_count": 8,
   "metadata": {},
   "outputs": [
    {
     "name": "stdout",
     "output_type": "stream",
     "text": [
      "Enter the name of the vendor you are interested in: Cooperative Cafeteria\n",
      "Cooperative Cafeteria Menu:\n",
      "Main Meal\tPrice (N)\n",
      "Jollof Rice and Stew\t200\n",
      "White Rice and Stew\t200\n",
      "Fried Rice\t\t200\n",
      "Salad\t\t\t100\n",
      "Plantain\t\t100\n"
     ]
    }
   ],
   "source": [
    "from abc import ABC, abstractmethod\n",
    "\n",
    "class External_Vendors(ABC):\n",
    "    @abstractmethod\n",
    "    def menu(self):\n",
    "        pass\n",
    "\n",
    "class Cooperative_Cafeteria(External_Vendors):\n",
    "    def menu(self):\n",
    "        print(\"Cooperative Cafeteria Menu:\")\n",
    "        print(\"Main Meal\\tPrice (N)\")\n",
    "        print(\"Jollof Rice and Stew\\t200\")\n",
    "        print(\"White Rice and Stew\\t200\")\n",
    "        print(\"Fried Rice\\t\\t200\")\n",
    "        print(\"Salad\\t\\t\\t100\")\n",
    "        print(\"Plantain\\t\\t100\")\n",
    "\n",
    "class Faith_Hostel_Cafeteria(External_Vendors):\n",
    "    def menu(self):\n",
    "        print(\"Faith Hostel Cafeteria Menu:\")\n",
    "        print(\"Main Meal\\tPrice (N)\")\n",
    "        print(\"Fried Rice\\t\\t400\")\n",
    "        print(\"White Rice and Stew\\t400\")\n",
    "        print(\"Jollof Rice\\t\\t400\")\n",
    "        print(\"Beans\\t\\t\\t200\")\n",
    "        print(\"Chicken\\t\\t\\t1000\")\n",
    "\n",
    "class Student_Centre_Cafeteria(External_Vendors):\n",
    "    def menu(self):\n",
    "        print(\"Student Centre Cafeteria Menu:\")\n",
    "        print(\"Main Meal\\tPrice (N)\")\n",
    "        print(\"Chicken Fried Rice\\t800\")\n",
    "        print(\"Pomo Sauce\\t\\t300\")\n",
    "        print(\"Spaghetti Jollof\\t500\")\n",
    "        print(\"Amala/Ewedu\\t\\t500\")\n",
    "        print(\"Semo with Eforiro Soup\\t500\")\n",
    "\n",
    "# User Input\n",
    "vendor_name = input(\"Enter the name of the vendor you are interested in: \")\n",
    "\n",
    "# Object instantiation\n",
    "if vendor_name == \"Cooperative Cafeteria\":\n",
    "    vendor = Cooperative_Cafeteria()\n",
    "elif vendor_name == \"Faith Hostel Cafeteria\":\n",
    "    vendor = Faith_Hostel_Cafeteria()\n",
    "elif vendor_name == \"Student Centre Cafeteria\":\n",
    "    vendor = Student_Centre_Cafeteria()\n",
    "else:\n",
    "    print(\"Invalid vendor name entered.\")\n",
    "    exit()\n",
    "\n",
    "# Invoke the menu method of the selected vendor\n",
    "vendor.menu()\n"
   ]
  },
  {
   "cell_type": "code",
   "execution_count": null,
   "metadata": {},
   "outputs": [],
   "source": []
  }
 ],
 "metadata": {
  "kernelspec": {
   "display_name": "Python 3 (ipykernel)",
   "language": "python",
   "name": "python3"
  },
  "language_info": {
   "codemirror_mode": {
    "name": "ipython",
    "version": 3
   },
   "file_extension": ".py",
   "mimetype": "text/x-python",
   "name": "python",
   "nbconvert_exporter": "python",
   "pygments_lexer": "ipython3",
   "version": "3.10.9"
  }
 },
 "nbformat": 4,
 "nbformat_minor": 4
}
