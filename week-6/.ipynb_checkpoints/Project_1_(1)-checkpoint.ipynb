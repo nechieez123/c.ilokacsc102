{
 "cells": [
  {
   "cell_type": "code",
   "execution_count": 9,
   "id": "a0aa7561",
   "metadata": {},
   "outputs": [],
   "source": [
    "import pandas as pd\n",
    " \n",
    "# making data frame from csv file\n",
    "data = pd.read_csv(\"Top-Apps-in-Google-Play.csv\")\n",
    "df = data.iloc[0],data.iloc[1],data.iloc[2],data.iloc[3],data.iloc[4],data.iloc[5],data.iloc[6]\n"
   ]
  },
  {
   "cell_type": "code",
   "execution_count": 8,
   "id": "38050b49",
   "metadata": {},
   "outputs": [],
   "source": [
    "import pandas as pd\n",
    " \n",
    "# making data frame from csv file\n",
    "data = pd.read_csv(\"BTC_DATA_V3.0.csv\")\n",
    "df = data.iloc[0],data.iloc[1],data.iloc[2],data.iloc[3],data.iloc[4],data.iloc[5],data.iloc[6]\n",
    "\n"
   ]
  },
  {
   "cell_type": "code",
   "execution_count": null,
   "id": "08a668cf",
   "metadata": {},
   "outputs": [],
   "source": [
    "import pandas as pd\n",
    " \n",
    "# making data frame from csv file\n",
    "data = pd.read_csv(\"BTC_DATA_V3.0.csv\")\n",
    "df = data.iloc[0],data.iloc[1],data.iloc[2],data.iloc[3],data.iloc[4],data.iloc[5],data.iloc[6]\n"
   ]
  }
 ],
 "metadata": {
  "kernelspec": {
   "display_name": "Python 3 (ipykernel)",
   "language": "python",
   "name": "python3"
  },
  "language_info": {
   "codemirror_mode": {
    "name": "ipython",
    "version": 3
   },
   "file_extension": ".py",
   "mimetype": "text/x-python",
   "name": "python",
   "nbconvert_exporter": "python",
   "pygments_lexer": "ipython3",
   "version": "3.10.9"
  }
 },
 "nbformat": 4,
 "nbformat_minor": 5
}
